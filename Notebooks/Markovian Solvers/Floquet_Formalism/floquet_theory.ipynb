{
 "cells": [
  {
   "cell_type": "markdown",
   "metadata": {},
   "source": [
    "## Time-Dependent Hamiltonian for a Two-Level System\n",
    "\n",
    "We consider a two-level system described by the Hamiltonian:\n",
    "\n",
    "$$\n",
    "\\hat{H}(t) = -\\frac{\\Delta}{2} \\, \\hat{\\sigma}_x - \\frac{\\epsilon(t)}{2} \\, \\hat{\\sigma}_z.\n",
    "$$\n",
    "\n",
    "### Explanation of Terms:\n",
    "- **Δ**: Time-independent coupling strength between the two basis states.\n",
    "- **ε(t)**: Time-dependent bias or detuning term.\n",
    "- **\\( \\hat{\\sigma}_x \\)** and **\\( \\hat{\\sigma}_z \\)**: Pauli matrices given by:\n",
    "  $$\n",
    "  \\hat{\\sigma}_x = \\begin{pmatrix} 0 & 1 \\\\ 1 & 0 \\end{pmatrix}, \\quad\n",
    "  \\hat{\\sigma}_z = \\begin{pmatrix} 1 & 0 \\\\ 0 & -1 \\end{pmatrix}.\n",
    "  $$\n",
    "\n",
    "### Harmonic Driving Assumption:\n",
    "For definiteness and simplicity in the algebra, we assume harmonic driving, i.e., we assume that \\( \\epsilon(t) \\) can be expressed as:\n",
    "\n",
    "$$\n",
    "\\epsilon(t) = \\epsilon_0 + A \\cos(\\omega t + \\varphi),\n",
    "$$\n",
    "\n",
    "where:\n",
    "- **\\( \\epsilon_0 \\)**: The static bias term.\n",
    "- **A**: Amplitude of the oscillating driving term.\n",
    "- **ω**: Frequency of the driving term.\n",
    "- **\\( \\varphi \\)**: Phase of the oscillation.\n",
    "\n",
    "This Hamiltonian represents a qubit subject to both transverse and longitudinal fields, commonly used in quantum control and Landau-Zener dynamics.\n"
   ]
  },
  {
   "cell_type": "code",
   "execution_count": 2,
   "metadata": {},
   "outputs": [],
   "source": [
    "from qutip import *\n",
    "import numpy as np\n",
    "import matplotlib.pyplot as plt"
   ]
  },
  {
   "cell_type": "code",
   "execution_count": 3,
   "metadata": {},
   "outputs": [],
   "source": [
    "# Step-1: Define Hamiltonian\n",
    "\n",
    "delta = 0.2 * 2*np.pi\n",
    "eps0 = 1.0 * 2*np.pi\n",
    "A = 2.5 * 2*np.pi\n",
    "\n",
    "omega = 1.0 * 2*np.pi\n",
    "T = 2*np.pi / omega\n",
    "\n",
    "# Define Time-Dependent Hamiltonian\n",
    "H0 = - delta/2.0 * sigmax() - eps0/2.0 * sigmaz()\n",
    "H1 = A/2.0 * sigmaz()\n",
    "args = {'w': omega}\n",
    "H = [H0, [H1, 'sin(w * t)']]"
   ]
  },
  {
   "cell_type": "markdown",
   "metadata": {},
   "source": [
    "    ### At t = 0, Floquet modes corresponding to the Hamiltonian\n",
    "    \n",
    "    FloquetBasis(H: QobjEvoLike,T: float)\n",
    "\n",
    "    T : period of the time-dependence of hamiltonian\n",
    "\n"
   ]
  },
  {
   "cell_type": "code",
   "execution_count": 21,
   "metadata": {},
   "outputs": [
    {
     "data": {
      "text/plain": [
       "[Quantum object: dims=[[2], [1]], shape=(2, 1), type='ket', dtype=Dense\n",
       " Qobj data =\n",
       " [[ 0.72964233+0.j        ]\n",
       "  [-0.39993746+0.55468198j]],\n",
       " Quantum object: dims=[[2], [1]], shape=(2, 1), type='ket', dtype=Dense\n",
       " Qobj data =\n",
       " [[0.39993746+0.55468198j]\n",
       "  [0.72964233+0.j        ]]]"
      ]
     },
     "execution_count": 21,
     "metadata": {},
     "output_type": "execute_result"
    }
   ],
   "source": [
    "f_basis = FloquetBasis(H, T, args)\n",
    "\n",
    "f_energies = f_basis.e_quasi\n",
    "f_modes_0 = f_basis.mode(0)\n",
    "\n",
    "f_modes_0"
   ]
  },
  {
   "cell_type": "markdown",
   "metadata": {},
   "source": [
    "### To find the floquet modes at t = 0, we obtain the Floquet mode at some later time t using-:\n",
    "\n",
    "Floquet mode at some later time using \n",
    "    FloquetBasis.mode:"
   ]
  },
  {
   "cell_type": "code",
   "execution_count": 33,
   "metadata": {},
   "outputs": [
    {
     "data": {
      "text/plain": [
       "[Quantum object: dims=[[2], [1]], shape=(2, 1), type='ket', dtype=Dense\n",
       " Qobj data =\n",
       " [[-0.61110146-0.39866365j]\n",
       "  [ 0.03189271+0.6830848j ]],\n",
       " Quantum object: dims=[[2], [1]], shape=(2, 1), type='ket', dtype=Dense\n",
       " Qobj data =\n",
       " [[-0.03189271+0.6830848j ]\n",
       "  [-0.61110146+0.39866365j]]]"
      ]
     },
     "execution_count": 33,
     "metadata": {},
     "output_type": "execute_result"
    }
   ],
   "source": [
    "f_modes_t = f_basis.mode(2.5)\n",
    "f_modes_t "
   ]
  },
  {
   "cell_type": "markdown",
   "metadata": {},
   "source": [
    "### Our Aim is to find the wave-function solution for some given initial state |\\psi> \n",
    "\n",
    "For that decompose \\psi_0 into floquet states  ψ=∑αcαψα(0)\n",
    ".using -:\n",
    "\n",
    "    to_floquet_basis(\n",
    "    lab_basis: QobjOrData,\n",
    "    t: float = 0,\n",
    "    )\n",
    "\n",
    "\n",
    "output = The state in the Floquet Basis"
   ]
  },
  {
   "cell_type": "code",
   "execution_count": 55,
   "metadata": {},
   "outputs": [
    {
     "data": {
      "text/latex": [
       "Quantum object: dims=[[2], [1]], shape=(2, 1), type='ket', dtype=Dense$$\\left(\\begin{array}{cc}1\\\\0\\end{array}\\right)$$"
      ],
      "text/plain": [
       "Quantum object: dims=[[2], [1]], shape=(2, 1), type='ket', dtype=Dense\n",
       "Qobj data =\n",
       "[[1.]\n",
       " [0.]]"
      ]
     },
     "execution_count": 55,
     "metadata": {},
     "output_type": "execute_result"
    }
   ],
   "source": [
    "\n",
    "psi0 = rand_ket(2)\n",
    "\n",
    "psi0 = basis(2,0)\n",
    "\n",
    "psi0"
   ]
  },
  {
   "cell_type": "code",
   "execution_count": 56,
   "metadata": {},
   "outputs": [
    {
     "data": {
      "text/latex": [
       "Quantum object: dims=[[2], [1]], shape=(2, 1), type='ket', dtype=Dense$$\\left(\\begin{array}{cc}0.730\\\\(0.400-0.555j)\\end{array}\\right)$$"
      ],
      "text/plain": [
       "Quantum object: dims=[[2], [1]], shape=(2, 1), type='ket', dtype=Dense\n",
       "Qobj data =\n",
       "[[0.72964233+0.j        ]\n",
       " [0.39993746-0.55468198j]]"
      ]
     },
     "execution_count": 56,
     "metadata": {},
     "output_type": "execute_result"
    }
   ],
   "source": [
    "f_coeff = f_basis.to_floquet_basis(psi0)\n",
    "f_coeff"
   ]
  },
  {
   "cell_type": "markdown",
   "metadata": {},
   "source": [
    "### Given this decomposition \n",
    "\n",
    "Now we aim to evaluate the wavefunction at an arbitrary time t using the function-:\n",
    "\n",
    "    from_floquet_basis(\n",
    "    lab_basis: QobjOrData,\n",
    "    t: float = 0,\n",
    "\n",
    "    output : State in floquet basis\n"
   ]
  },
  {
   "cell_type": "code",
   "execution_count": 52,
   "metadata": {},
   "outputs": [],
   "source": [
    "# t = 10 * np.random.rand()\n",
    "\n",
    "# psi_t = f_basis.from_floquet_basis(f_coeff, t)\n",
    "# psi_t"
   ]
  },
  {
   "cell_type": "code",
   "execution_count": 61,
   "metadata": {},
   "outputs": [
    {
     "data": {
      "image/png": "[encoded data removed]",
      "text/plain": [
       "<Figure size 640x480 with 1 Axes>"
      ]
     },
     "metadata": {},
     "output_type": "display_data"
    }
   ],
   "source": [
    "tlist  = np.linspace(0.0, 10 * T, 10001)\n",
    "# calculate the wavefunctions using the from the floquet modes coefficients\n",
    "p_ex = np.zeros(len(tlist))\n",
    "\n",
    "for i, t in enumerate(tlist):\n",
    "    psi_t = f_basis.from_floquet_basis(f_coeff, t)\n",
    "    p_ex[i] = expect(num(2), psi_t)\n",
    "\n",
    "plt.plot(tlist, p_ex)\n",
    "plt.xlabel('Time')\n",
    "plt.ylabel('Occupation probability')\n",
    "plt.show()\n"
   ]
  },
  {
   "cell_type": "code",
   "execution_count": 60,
   "metadata": {},
   "outputs": [
    {
     "data": {
      "text/latex": [
       "Quantum object: dims=[[2], [2]], shape=(2, 2), type='oper', dtype=Dia, isherm=True$$\\left(\\begin{array}{cc}0 & 0\\\\0 & 1\\end{array}\\right)$$"
      ],
      "text/plain": [
       "Quantum object: dims=[[2], [2]], shape=(2, 2), type='oper', dtype=Dia, isherm=True\n",
       "Qobj data =\n",
       "[[0. 0.]\n",
       " [0. 1.]]"
      ]
     },
     "execution_count": 60,
     "metadata": {},
     "output_type": "execute_result"
    }
   ],
   "source": [
    "num(2)"
   ]
  },
  {
   "cell_type": "markdown",
   "metadata": {},
   "source": [
    "### Floquet Hamiltonian and absorption probability for a two-level System"
   ]
  },
  {
   "cell_type": "code",
   "execution_count": null,
   "metadata": {},
   "outputs": [],
   "source": []
  },
  {
   "cell_type": "markdown",
   "metadata": {},
   "source": [
    "## **Mathematical Explanation of the `floquet` Function**  \n",
    "\n",
    "The function `floquet` constructs the **Floquet Hamiltonian** for a quantum system interacting with a periodic drive. It calculates the system's **Floquet spectrum** and determines the transition probabilities based on the overlap between eigenstates.\n",
    "\n",
    "---\n",
    "\n",
    "## **1. Inputs and Their Mathematical Meaning**\n",
    "The function takes the following inputs:\n",
    "\n",
    "1. $H_0$ - The **unperturbed system Hamiltonian** (e.g., a two-level atom Hamiltonian).  \n",
    "2. $H_{\\text{int}}$ - The **interaction Hamiltonian**, which describes how the system interacts with an external periodic drive.  \n",
    "3. $\\omega$ - The **driving frequency**, which determines the photon energy.  \n",
    "4. `n_ph` - The **number of photon states** considered in the Floquet analysis.  \n",
    "5. `measvec` - A measurement vector (not used in this code snippet).  \n",
    "\n",
    "---\n",
    "\n",
    "## **2. Initialization**\n",
    "```python\n",
    "# Overlap probability\n",
    "overlap_prob = 0\n",
    "```\n",
    "This initializes `overlap_prob`, which will later store the transition probability.\n",
    "\n",
    "---\n",
    "\n",
    "## **3. Spectral Decomposition of** $H_0$\n",
    "```python\n",
    "evals_0, evecs_0 = eigen_sorter(H0)\n",
    "```\n",
    "- Here, `eigen_sorter(H0)` finds the **eigenvalues** $\\lambda_i$ and **eigenvectors** $|v_i\\rangle$ of $H_0$.\n",
    "- This step helps us express the system in its **energy eigenbasis**, which simplifies further calculations.\n",
    "\n",
    "Mathematically,  \n",
    "\\[ H_0 |v_i\\rangle = \\lambda_i |v_i\\rangle \\]\n",
    "where $\\lambda_i$ are the energy levels of the system.\n",
    "\n",
    "---\n",
    "\n",
    "## **4. Atom Hamiltonian in the Floquet Space**\n",
    "```python\n",
    "H_atom = np.kron(np.eye(n_ph), H0)\n",
    "```\n",
    "- The system is **extended** into the Floquet space using the Kronecker product ($\\otimes$).  \n",
    "- Here, $H_0$ is **repeated** across $n_{\\text{ph}}$ photon states.  \n",
    "- The Floquet space consists of states labeled as $|v_i, n\\rangle$, where:\n",
    "  - $|v_i\\rangle$ is an eigenstate of $H_0$,\n",
    "  - $n$ is the photon number.\n",
    "\n",
    "Mathematically,  \n",
    "\\[ H_{\\text{atom}} = I_{\\text{ph}} \\otimes H_0 \\]\n",
    "where $I_{\\text{ph}}$ is the **identity matrix of size** $n_{\\text{ph}}$.\n",
    "\n",
    "---\n",
    "\n",
    "## **5. Photon Range and System Dimension**\n",
    "```python\n",
    "max_ph = int(np.floor(n_ph/2))\n",
    "dim = len(H0)\n",
    "```\n",
    "- The **photon range** is set from $-\\lfloor n_{\\text{ph}}/2 \\rfloor$ to $\\lfloor n_{\\text{ph}}/2 \\rfloor$.  \n",
    "- `dim` is the number of levels in $H_0$ (e.g., for a two-level system, `dim = 2`).\n",
    "\n",
    "---\n",
    "\n",
    "## **6. Photon Hamiltonian**\n",
    "```python\n",
    "H_ph = omega * np.kron(np.diag([k for k in range(-max_ph, max_ph+1)]), np.eye(dim))\n",
    "```\n",
    "- This term represents the **energy contribution from the photon number states**.\n",
    "- The diagonal matrix contains photon numbers $k \\in [-\\max_{\\text{ph}}, \\max_{\\text{ph}}]$, each multiplied by $\\omega$ (photon energy).\n",
    "- The Kronecker product ensures that the Hamiltonian applies to the entire system.\n",
    "\n",
    "Mathematically,  \n",
    "\\[ H_{\\text{ph}} = \\omega \\sum_{k=-\\max_{\\text{ph}}}^{\\max_{\\text{ph}}} k |k\\rangle \\langle k| \\otimes I_{\\text{dim}} \\]\n",
    "where $|k\\rangle$ represents the **photon number state**.\n",
    "\n",
    "---\n",
    "\n",
    "## **7. Interaction Term Preparation**\n",
    "```python\n",
    "temp_v = np.array([int(k==1) for k in range(n_ph)])\n",
    "```\n",
    "- This creates a Toeplitz matrix template for the **interaction Hamiltonian**.\n",
    "- It ensures that only adjacent photon-number states couple, which is necessary for a **one-photon transition**.\n",
    "\n",
    "---\n",
    "\n",
    "## **8. Interaction Hamiltonian**\n",
    "```python\n",
    "H_int = np.kron(sp.linalg.toeplitz(temp_v), Hint)\n",
    "```\n",
    "- The **interaction term couples the system and photon states**.\n",
    "- The Toeplitz matrix enforces **selection rules** where the photon number changes by $\\pm 1$.\n",
    "- $H_{\\text{int}}$ is the system-operator part of the interaction.\n",
    "\n",
    "Mathematically,  \n",
    "\\[ H_{\\text{int}} = \\sum_k |k+1\\rangle \\langle k| \\otimes H_{\\text{int}} + |k\\rangle \\langle k+1| \\otimes H_{\\text{int}}^\\dagger \\]\n",
    "This ensures that **photon absorption and emission** occur properly.\n",
    "\n",
    "---\n",
    "\n",
    "## **9. Full Floquet Hamiltonian**\n",
    "```python\n",
    "H = H_atom + H_ph + H_int\n",
    "```\n",
    "- The total **Floquet Hamiltonian** is constructed.\n",
    "- It includes:\n",
    "  1. **Atomic system energy** $H_{\\text{atom}}$,\n",
    "  2. **Photon energy contribution** $H_{\\text{ph}}$,\n",
    "  3. **System-photon interaction** $H_{\\text{int}}$.\n",
    "\n",
    "Mathematically,  \n",
    "\\[ H_F = H_{\\text{atom}} + H_{\\text{ph}} + H_{\\text{int}} \\]\n",
    "This Hamiltonian describes the **time-independent representation** of a periodically driven system.\n",
    "\n",
    "---\n",
    "\n",
    "## **10. Constructing the Initial State** $|\\psi_g\\rangle$\n",
    "```python\n",
    "psi_g = np.kron(np.array([int(k==max_ph) for k in range(n_ph)]), evecs_0[-1])\n",
    "```\n",
    "- The **initial state** is constructed as:\n",
    "  - The **highest photon number state** ($k = \\max_{\\text{ph}}$).\n",
    "  - The **ground state** $|g\\rangle$ of $H_0$.\n",
    "\n",
    "Mathematically,  \n",
    "\\[ |\\psi_g\\rangle = |n = \\max_{\\text{ph}}\\rangle \\otimes |g\\rangle \\]\n",
    "\n",
    "---\n",
    "\n",
    "## **Summary of Key Terms**\n",
    "\n",
    "| Term | Mathematical Expression | Meaning |\n",
    "|------|-------------------------|---------|\n",
    "| $H_0$ | $\\frac{\\delta}{2} \\sigma_z + \\varepsilon \\sigma_x$ | System Hamiltonian (without driving) |\n",
    "| $H_F$ | $H_{\\text{atom}} + H_{\\text{ph}} + H_{\\text{int}}$ | Full Floquet Hamiltonian |\n",
    "| $|\\psi_g\\rangle$ | $|n = \\max_{\\text{ph}}\\rangle \\otimes |g\\rangle$ | Initial state |\n",
    "\n",
    "This function **constructs and diagonalizes** the Floquet Hamiltonian, allowing one to analyze **multi-photon transitions** and **Floquet eigenstates**.\n"
   ]
  },
  {
   "cell_type": "code",
   "execution_count": null,
   "metadata": {},
   "outputs": [
    {
     "data": {
      "text/latex": [
       "Quantum object: dims=[[2], [2]], shape=(2, 2), type='oper', dtype=CSR, isherm=True$$\\left(\\begin{array}{cc}0 & 1\\\\1 & 0\\end{array}\\right)$$"
      ],
      "text/plain": [
       "Quantum object: dims=[[2], [2]], shape=(2, 2), type='oper', dtype=CSR, isherm=True\n",
       "Qobj data =\n",
       "[[0. 1.]\n",
       " [1. 0.]]"
      ]
     },
     "execution_count": 39,
     "metadata": {},
     "output_type": "execute_result"
    }
   ],
   "source": [
    "# input\n",
    "measvec = np.array([1,0])\n",
    "epsilon = 0.2\n",
    "Deltas = np.linspace(-6,6,600)\n",
    "omega = 1.5\n",
    "n_ph = 13\n",
    "Vs = [0.05,0.2,1]\n",
    "# define sigmax and sigmaz\n",
    "sx = sigmax()\n",
    "sz = sigmaz()\n",
    "\n",
    "#define the Hamiltonian     \n",
    "# define Hamiltonian: H0 = 0.5*delta*sigma_z + epsilon*sigma_x\n",
    "H0 = 0.5 * Deltas[0] * sz + epsilon * sx\n",
    "#Interaction Hamiltonian: Hint = 0.5*Vstr*sigma_z\n",
    "Hint = Vs[0] * sz\n",
    "# Total Hamiltonian: H = H0 + Hint*cos(omega*t)\n",
    "H = [H0, [Hint, 'cos(omega*t)']]\n",
    "\n",
    "\n",
    "\n"
   ]
  },
  {
   "cell_type": "code",
   "execution_count": 43,
   "metadata": {},
   "outputs": [
    {
     "data": {
      "text/plain": [
       "array([0, 1, 0, 0, 0, 0, 0, 0, 0, 0, 0, 0, 0])"
      ]
     },
     "execution_count": 43,
     "metadata": {},
     "output_type": "execute_result"
    }
   ],
   "source": [
    "max_ph = int(np.floor(n_ph/2))\n",
    "\n",
    "max_ph\n",
    "\n",
    "temp_v = np.array([int(k==1) for k in range(n_ph)])\n",
    "\n",
    "temp_v"
   ]
  },
  {
   "cell_type": "code",
   "execution_count": null,
   "metadata": {},
   "outputs": [],
   "source": [
    "# what is max_ph?\n",
    "#  Define the absorption as the probability of measuring in the state measvec\n",
    "10 measvec = np.asarray([1, 0])\n",
    "\n",
    "\n",
    "\n"
   ]
  },
  {
   "cell_type": "markdown",
   "metadata": {},
   "source": []
  },
  {
   "cell_type": "markdown",
   "metadata": {},
   "source": []
  }
 ],
 "metadata": {
  "kernelspec": {
   "display_name": "qiskit",
   "language": "python",
   "name": "python3"
  },
  "language_info": {
   "codemirror_mode": {
    "name": "ipython",
    "version": 3
   },
   "file_extension": ".py",
   "mimetype": "text/x-python",
   "name": "python",
   "nbconvert_exporter": "python",
   "pygments_lexer": "ipython3",
   "version": "3.12.2"
  }
 },
 "nbformat": 4,
 "nbformat_minor": 2
}
