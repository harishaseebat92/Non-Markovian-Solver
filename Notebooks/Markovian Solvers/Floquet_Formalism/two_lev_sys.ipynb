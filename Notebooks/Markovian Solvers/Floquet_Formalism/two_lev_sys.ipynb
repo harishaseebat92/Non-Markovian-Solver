{
 "cells": [
  {
   "cell_type": "code",
   "execution_count": 1,
   "metadata": {},
   "outputs": [],
   "source": [
    "from qutip import *\n",
    "import numpy as np\n",
    "from matplotlib import pyplot as plt"
   ]
  },
  {
   "cell_type": "code",
   "execution_count": 2,
   "metadata": {},
   "outputs": [],
   "source": [
    "measvec = np.array([1,0])\n",
    "epsilon = 0.2\n",
    "Deltas = np.linspace(-6,6,600)\n",
    "omega = 1.5\n",
    "T = 2*np.pi/omega  # period of the driving field\n",
    "n_ph = 13\n",
    "Vs = [0.05,0.2,1]\n",
    "# define sigmax and sigmaz\n",
    "sx = sigmax()\n",
    "sz = sigmaz()"
   ]
  },
  {
   "cell_type": "code",
   "execution_count": null,
   "metadata": {},
   "outputs": [
    {
     "data": {
      "text/plain": [
       "Dense(shape=(2, 2), fortran=True)"
      ]
     },
     "execution_count": 22,
     "metadata": {},
     "output_type": "execute_result"
    }
   ],
   "source": [
    "#define the Hamiltonian     \n",
    "# define Hamiltonian: H0 = 0.5*delta*sigma_z + epsilon*sigma_x\n",
    "H0 = 0.5 * Deltas[0] * sz + epsilon * sx\n",
    "#Interaction Hamiltonian: Hint = 0.5*Vstr*sigma_z\n",
    "Hint = Vs[0] * sz\n",
    "\n",
    "args = {'w': omega}\n",
    "# Total Hamiltonian: H = H0 + Hint*cos(omega*t)\n",
    "H = [H0, [Hint, 'cos(w*t)']]\n",
    "f_basis = FloquetBasis(H, T, args)\n",
    "\n",
    "f_energies = f_basis.e_quasi\n",
    "f_modes_0 = f_basis.mode(0)\n",
    "\n",
    "# psi_g = basis(2,0)\n",
    "\n",
    "# f_coeff = f_basis.to_floquet_basis(psi_g)\n",
    "\n",
    "# f_basis.from_floquet_basis(f_coeff)\n",
    "f_basis.evecs\n",
    "\n"
   ]
  },
  {
   "cell_type": "code",
   "execution_count": 4,
   "metadata": {},
   "outputs": [
    {
     "data": {
      "text/latex": [
       "Quantum object: dims=[[2], [1]], shape=(2, 1), type='ket', dtype=Dense$$\\left(\\begin{array}{cc}1\\\\6.939\\times10^{ -18 }\\end{array}\\right)$$"
      ],
      "text/plain": [
       "Quantum object: dims=[[2], [1]], shape=(2, 1), type='ket', dtype=Dense\n",
       "Qobj data =\n",
       "[[1.0000000e+00]\n",
       " [6.9388939e-18]]"
      ]
     },
     "execution_count": 4,
     "metadata": {},
     "output_type": "execute_result"
    }
   ],
   "source": [
    "psi_g = basis(2,0)\n",
    "\n",
    "f_coeff = f_basis.to_floquet_basis(psi_g)\n",
    "\n",
    "f_basis.from_floquet_basis(f_coeff)\n",
    "# f_coeff"
   ]
  },
  {
   "cell_type": "code",
   "execution_count": null,
   "metadata": {},
   "outputs": [
    {
     "name": "stdout",
     "output_type": "stream",
     "text": [
      "[[0.72977267 0.72977267 0.72977267]\n",
      " [0.72977267 0.72977267 0.72977267]\n",
      " [0.72977267 0.72977267 0.72977267]\n",
      " ...\n",
      " [0.72977267 0.72977267 0.72977267]\n",
      " [0.72977267 0.72977267 0.72977267]\n",
      " [0.72977267 0.72977267 0.72977267]]\n"
     ]
    }
   ],
   "source": [
    "abs_av = np.zeros((len(Deltas),len(Vs)))\n",
    "\n",
    "psi_g = basis(2,0)\n",
    "\n",
    "psi_op = ket2dm(psi_g)\n",
    "\n",
    "# compute\n",
    "for iD,Delta in enumerate(Deltas):\n",
    "    for iV,V in enumerate(Vs):\n",
    "        # abs_av[iD,iV] = floquet(H0,Hint,omega,n_ph,measvec)\n",
    "\n",
    "        H0 = 0.5 * Delta * sz + epsilon * sx\n",
    "        #Interaction Hamiltonian: Hint = 0.5*Vstr*sigma_z\n",
    "        Hint = V * sz\n",
    "\n",
    "        args = {'w': omega}\n",
    "        # Total Hamiltonian: H = H0 + Hint*cos(omega*t)\n",
    "        H = [H0, [Hint, 'cos(w*t)']]\n",
    "\n",
    "        f_basis = FloquetBasis(H, T, args)\n",
    "\n",
    "        f_coeff = f_basis.to_floquet_basis(psi_g)\n",
    "\n",
    "        psi = f_basis.from_floquet_basis(f_coeff)\n",
    "\n",
    "        abs_av[iD,iV] = expect(num(2), psi)\n",
    "print(abs_av)\n",
    "\n"
   ]
  },
  {
   "cell_type": "code",
   "execution_count": 10,
   "metadata": {},
   "outputs": [
    {
     "data": {
      "image/png": "[encoded data removed]",
      "text/plain": [
       "<Figure size 640x480 with 1 Axes>"
      ]
     },
     "metadata": {},
     "output_type": "display_data"
    }
   ],
   "source": [
    "\n",
    "plt.plot(Deltas/omega,abs_av.T[0], label = 'V = '+str(Vs[0]));\n",
    "plt.plot(Deltas/omega,abs_av.T[1], linestyle = (5,(10,1)), label = 'V = '+str(Vs[1]));\n",
    "plt.plot(Deltas/omega,abs_av.T[2], '--', label = 'V = '+str(Vs[2]));\n",
    "\n",
    "plt.show()"
   ]
  },
  {
   "cell_type": "code",
   "execution_count": 26,
   "metadata": {},
   "outputs": [],
   "source": [
    "import scipy as sp\n",
    "# number of photons\n",
    "n_ph = 13\n",
    "temp_v = np.array([int(k==1) for k in range(n_ph)])\n",
    "# interaction Hamiltonian\n",
    "H_int = np.kron(sp.linalg.toeplitz(temp_v),Hint)\n",
    "\n"
   ]
  },
  {
   "cell_type": "code",
   "execution_count": 41,
   "metadata": {},
   "outputs": [],
   "source": [
    "import numpy as np\n",
    "import qutip as qt\n",
    "\n",
    "def floquet(H0, Hint, omega, n_ph, measvec):\n",
    "    \"\"\"Compute the Floquet transition probability using QuTiP tools.\"\"\"\n",
    "    \n",
    "    # Define the photonic number states\n",
    "    max_ph = int(np.floor(n_ph / 2))\n",
    "    photon_states = qt.basis(n_ph, max_ph)  # Ground photon state |max_ph⟩\n",
    "\n",
    "    # Convert Hamiltonians to QObjects\n",
    "    H0_q = qt.Qobj(H0)\n",
    "    Hint_q = qt.Qobj(Hint)\n",
    "    \n",
    "    # Construct full system Hamiltonian in Floquet basis\n",
    "    H_atom = qt.tensor(qt.qeye(n_ph), H0_q)\n",
    "    H_ph = omega * qt.tensor(qt.num(n_ph) - max_ph, qt.qeye(H0_q.shape[0]))  # Shifted photon states\n",
    "    H_int = qt.tensor(qt.destroy(n_ph) + qt.create(n_ph), Hint_q)  # Interaction\n",
    "\n",
    "    H = H_atom + H_ph + H_int  # Total Hamiltonian\n",
    "\n",
    "    # Compute Floquet modes and quasienergies\n",
    "    T = 2 * np.pi / omega  # Driving period\n",
    "    # f_modes, f_energies = qt.floquet.floquet_modes(H, T)\n",
    "    f_basis = FloquetBasis(H, T, args)\n",
    "    f_modes = f_basis.mode(0)\n",
    "    # Ground state of the full system\n",
    "    psi_g = qt.tensor(photon_states, H0_q.eigenstates()[1][-1])  # Ground state tensor product\n",
    "\n",
    "    # Initialize overlap probability\n",
    "    overlap_prob = 0\n",
    "\n",
    "    # Measurement state preparation\n",
    "    measvec_q = qt.Qobj(measvec)  # Convert measurement vector\n",
    "    for k_c in range(1, n_ph + 1):\n",
    "        psi_m = qt.tensor(qt.basis(n_ph, k_c), measvec_q)  # Measurement state\n",
    "        \n",
    "        for f_mode in f_modes:\n",
    "            overlap = psi_m.dag() * f_mode * psi_g  # Overlap calculation\n",
    "            overlap_prob += np.abs(overlap.full()[0, 0])**2  # Convert to probability\n",
    "    \n",
    "    return overlap_prob\n"
   ]
  },
  {
   "cell_type": "code",
   "execution_count": 42,
   "metadata": {},
   "outputs": [
    {
     "name": "stderr",
     "output_type": "stream",
     "text": [
      "  0%|          | 0/600 [00:00<?, ?it/s]C:\\Users\\DELL\\AppData\\Local\\Temp\\ipykernel_5768\\1120067944.py:18: RuntimeWarning: k >= N for N * N square matrix. Attempting to use scipy.linalg.eigh instead.\n",
      "  evals_un,evecs_un = sp.sparse.linalg.eigsh(H0)\n",
      "  0%|          | 0/600 [00:00<?, ?it/s]\n"
     ]
    },
    {
     "ename": "ValueError",
     "evalue": "All basis indices must be integers in the range `0 <= n < dimension`.",
     "output_type": "error",
     "traceback": [
      "\u001b[1;31m---------------------------------------------------------------------------\u001b[0m",
      "\u001b[1;31mIndexError\u001b[0m                                Traceback (most recent call last)",
      "File \u001b[1;32mc:\\Users\\DELL\\anaconda3\\envs\\qiskit\\Lib\\site-packages\\qutip\\core\\states.py:152\u001b[0m, in \u001b[0;36mbasis\u001b[1;34m(dimensions, n, offset, dtype)\u001b[0m\n\u001b[0;32m    151\u001b[0m \u001b[38;5;28;01mtry\u001b[39;00m:\n\u001b[1;32m--> 152\u001b[0m     location \u001b[38;5;241m=\u001b[39m \u001b[43mdimensions\u001b[49m\u001b[38;5;241;43m.\u001b[39;49m\u001b[43mdims2idx\u001b[49m\u001b[43m(\u001b[49m\u001b[43mn\u001b[49m\u001b[43m)\u001b[49m\n\u001b[0;32m    153\u001b[0m \u001b[38;5;28;01mexcept\u001b[39;00m \u001b[38;5;167;01mIndexError\u001b[39;00m:\n",
      "File \u001b[1;32mc:\\Users\\DELL\\anaconda3\\envs\\qiskit\\Lib\\site-packages\\qutip\\core\\dimensions.py:477\u001b[0m, in \u001b[0;36mSpace.dims2idx\u001b[1;34m(self, dims)\u001b[0m\n\u001b[0;32m    476\u001b[0m \u001b[38;5;28;01mif\u001b[39;00m \u001b[38;5;129;01mnot\u001b[39;00m (\u001b[38;5;241m0\u001b[39m \u001b[38;5;241m<\u001b[39m\u001b[38;5;241m=\u001b[39m dims[\u001b[38;5;241m0\u001b[39m] \u001b[38;5;241m<\u001b[39m \u001b[38;5;28mself\u001b[39m\u001b[38;5;241m.\u001b[39msize):\n\u001b[1;32m--> 477\u001b[0m     \u001b[38;5;28;01mraise\u001b[39;00m \u001b[38;5;167;01mIndexError\u001b[39;00m(\u001b[38;5;124m\"\u001b[39m\u001b[38;5;124mDimensions out of range\u001b[39m\u001b[38;5;124m\"\u001b[39m)\n\u001b[0;32m    478\u001b[0m \u001b[38;5;28;01mif\u001b[39;00m \u001b[38;5;129;01mnot\u001b[39;00m \u001b[38;5;28misinstance\u001b[39m(dims[\u001b[38;5;241m0\u001b[39m], numbers\u001b[38;5;241m.\u001b[39mIntegral):\n",
      "\u001b[1;31mIndexError\u001b[0m: Dimensions out of range",
      "\nDuring handling of the above exception, another exception occurred:\n",
      "\u001b[1;31mValueError\u001b[0m                                Traceback (most recent call last)",
      "Cell \u001b[1;32mIn[42], line 24\u001b[0m\n\u001b[0;32m     22\u001b[0m         spec[:,iD] \u001b[38;5;241m=\u001b[39m np\u001b[38;5;241m.\u001b[39msort(evals)\n\u001b[0;32m     23\u001b[0m         Hint \u001b[38;5;241m=\u001b[39m V\u001b[38;5;241m*\u001b[39msz\u001b[38;5;241m/\u001b[39m\u001b[38;5;241m2\u001b[39m\n\u001b[1;32m---> 24\u001b[0m         abs_av[iD,iV] \u001b[38;5;241m=\u001b[39m \u001b[43mfloquet\u001b[49m\u001b[43m(\u001b[49m\u001b[43mH0\u001b[49m\u001b[43m,\u001b[49m\u001b[43mHint\u001b[49m\u001b[43m,\u001b[49m\u001b[43momega\u001b[49m\u001b[43m,\u001b[49m\u001b[43mn_ph\u001b[49m\u001b[43m,\u001b[49m\u001b[43mmeasvec\u001b[49m\u001b[43m)\u001b[49m\n\u001b[0;32m     25\u001b[0m fig, ax \u001b[38;5;241m=\u001b[39m plt\u001b[38;5;241m.\u001b[39msubplots(\u001b[38;5;241m2\u001b[39m,\u001b[38;5;241m1\u001b[39m, figsize\u001b[38;5;241m=\u001b[39m(\u001b[38;5;241m8\u001b[39m,\u001b[38;5;241m5\u001b[39m))\n\u001b[0;32m     26\u001b[0m ax[\u001b[38;5;241m0\u001b[39m]\u001b[38;5;241m.\u001b[39mplot(Deltas\u001b[38;5;241m/\u001b[39momega,spec[\u001b[38;5;241m1\u001b[39m], \u001b[38;5;124m'\u001b[39m\u001b[38;5;124mb-\u001b[39m\u001b[38;5;124m'\u001b[39m, label \u001b[38;5;241m=\u001b[39m \u001b[38;5;124mr\u001b[39m\u001b[38;5;124m'\u001b[39m\u001b[38;5;124m$\u001b[39m\u001b[38;5;124m\\\u001b[39m\u001b[38;5;124mlambda_e$\u001b[39m\u001b[38;5;124m'\u001b[39m)\n",
      "Cell \u001b[1;32mIn[41], line 36\u001b[0m, in \u001b[0;36mfloquet\u001b[1;34m(H0, Hint, omega, n_ph, measvec)\u001b[0m\n\u001b[0;32m     34\u001b[0m measvec_q \u001b[38;5;241m=\u001b[39m qt\u001b[38;5;241m.\u001b[39mQobj(measvec)  \u001b[38;5;66;03m# Convert measurement vector\u001b[39;00m\n\u001b[0;32m     35\u001b[0m \u001b[38;5;28;01mfor\u001b[39;00m k_c \u001b[38;5;129;01min\u001b[39;00m \u001b[38;5;28mrange\u001b[39m(\u001b[38;5;241m1\u001b[39m, n_ph \u001b[38;5;241m+\u001b[39m \u001b[38;5;241m1\u001b[39m):\n\u001b[1;32m---> 36\u001b[0m     psi_m \u001b[38;5;241m=\u001b[39m qt\u001b[38;5;241m.\u001b[39mtensor(\u001b[43mqt\u001b[49m\u001b[38;5;241;43m.\u001b[39;49m\u001b[43mbasis\u001b[49m\u001b[43m(\u001b[49m\u001b[43mn_ph\u001b[49m\u001b[43m,\u001b[49m\u001b[43m \u001b[49m\u001b[43mk_c\u001b[49m\u001b[43m)\u001b[49m, measvec_q)  \u001b[38;5;66;03m# Measurement state\u001b[39;00m\n\u001b[0;32m     38\u001b[0m     \u001b[38;5;28;01mfor\u001b[39;00m f_mode \u001b[38;5;129;01min\u001b[39;00m f_modes:\n\u001b[0;32m     39\u001b[0m         overlap \u001b[38;5;241m=\u001b[39m psi_m\u001b[38;5;241m.\u001b[39mdag() \u001b[38;5;241m*\u001b[39m f_mode \u001b[38;5;241m*\u001b[39m psi_g  \u001b[38;5;66;03m# Overlap calculation\u001b[39;00m\n",
      "File \u001b[1;32mc:\\Users\\DELL\\anaconda3\\envs\\qiskit\\Lib\\site-packages\\qutip\\core\\states.py:154\u001b[0m, in \u001b[0;36mbasis\u001b[1;34m(dimensions, n, offset, dtype)\u001b[0m\n\u001b[0;32m    152\u001b[0m         location \u001b[38;5;241m=\u001b[39m dimensions\u001b[38;5;241m.\u001b[39mdims2idx(n)\n\u001b[0;32m    153\u001b[0m     \u001b[38;5;28;01mexcept\u001b[39;00m \u001b[38;5;167;01mIndexError\u001b[39;00m:\n\u001b[1;32m--> 154\u001b[0m         \u001b[38;5;28;01mraise\u001b[39;00m \u001b[38;5;167;01mValueError\u001b[39;00m(\u001b[38;5;124m\"\u001b[39m\u001b[38;5;124mAll basis indices must be integers in the range \u001b[39m\u001b[38;5;124m\"\u001b[39m\n\u001b[0;32m    155\u001b[0m                          \u001b[38;5;124m\"\u001b[39m\u001b[38;5;124m`0 <= n < dimension`.\u001b[39m\u001b[38;5;124m\"\u001b[39m)\n\u001b[0;32m    157\u001b[0m data \u001b[38;5;241m=\u001b[39m _data\u001b[38;5;241m.\u001b[39mone_element[dtype]((size, \u001b[38;5;241m1\u001b[39m), (location, \u001b[38;5;241m0\u001b[39m), \u001b[38;5;241m1\u001b[39m)\n\u001b[0;32m    158\u001b[0m \u001b[38;5;28;01mreturn\u001b[39;00m Qobj(data,\n\u001b[0;32m    159\u001b[0m             dims\u001b[38;5;241m=\u001b[39m[dimensions, dimensions\u001b[38;5;241m.\u001b[39mscalar_like()],\n\u001b[0;32m    160\u001b[0m             isherm\u001b[38;5;241m=\u001b[39m\u001b[38;5;28;01mFalse\u001b[39;00m,\n\u001b[0;32m    161\u001b[0m             isunitary\u001b[38;5;241m=\u001b[39m\u001b[38;5;28;01mFalse\u001b[39;00m,\n\u001b[0;32m    162\u001b[0m             copy\u001b[38;5;241m=\u001b[39m\u001b[38;5;28;01mFalse\u001b[39;00m)\n",
      "\u001b[1;31mValueError\u001b[0m: All basis indices must be integers in the range `0 <= n < dimension`."
     ]
    }
   ],
   "source": [
    "import matplotlib.pyplot as plt\n",
    "from tqdm import tqdm\n",
    "# input\n",
    "measvec = np.array([1,0])\n",
    "epsilon = 0.2\n",
    "Deltas = np.linspace(-6,6,600)\n",
    "omega = 1.5\n",
    "n_ph = 13\n",
    "Vs = [0.05,0.2,1]\n",
    "sx,sz = np.array([[0,1],[1,0]]), np.array([[1,0],[0,-1]])\n",
    "# allocate memory\n",
    "abs_av = np.zeros((len(Deltas),len(Vs)))\n",
    "spec = np.zeros((2,len(Deltas)))\n",
    "# compute\n",
    "for iD,Delta in enumerate(tqdm(Deltas)):\n",
    "    for iV,V in enumerate(Vs):\n",
    "        H0 = Delta/2*sz + epsilon*sx\n",
    "        evals_un,evecs_un = sp.sparse.linalg.eigsh(H0)\n",
    "        # sort\n",
    "        evals = np.sort(evals_un)\n",
    "        evecs = evecs_un[:, evals_un.argsort()]\n",
    "        spec[:,iD] = np.sort(evals)\n",
    "        Hint = V*sz/2\n",
    "        abs_av[iD,iV] = floquet(H0,Hint,omega,n_ph,measvec)\n",
    "fig, ax = plt.subplots(2,1, figsize=(8,5))\n",
    "ax[0].plot(Deltas/omega,spec[1], 'b-', label = r'$\\lambda_e$')\n",
    "ax[0].plot(Deltas/omega,spec[0], 'r-', label = r'$\\lambda_g$')\n",
    "ax[0].legend();\n",
    "ax[0].set_ylabel(r'Energy');\n",
    "ax[0].vlines([k for k in range(-3,3+1) if k != 0],-4,4,\n",
    "linestyles='dashed',linewidths=1, colors = 'black', alpha = 0.5)\n",
    "ax[1].vlines([k for k in range(-3,3+1) if k != 0],0,1,\n",
    "linestyles='dashed',linewidths=1, colors = 'black', alpha = 0.5)\n",
    "ax[1].plot(Deltas/omega,abs_av.T[0], label = 'V = '+str(Vs[0]));\n",
    "ax[1].plot(Deltas/omega,abs_av.T[1], linestyle = (5,(10,1)), label = 'V = '+str(Vs[1]));\n",
    "ax[1].plot(Deltas/omega,abs_av.T[2], '--', label = 'V = '+str(Vs[2]));\n",
    "ax[1].legend();\n",
    "ax[1].set_xlabel(r'detuning ($\\delta$)');\n",
    "ax[1].set_ylabel(r'Absorption probability');"
   ]
  },
  {
   "cell_type": "code",
   "execution_count": null,
   "metadata": {},
   "outputs": [],
   "source": []
  }
 ],
 "metadata": {
  "kernelspec": {
   "display_name": "qiskit",
   "language": "python",
   "name": "python3"
  },
  "language_info": {
   "codemirror_mode": {
    "name": "ipython",
    "version": 3
   },
   "file_extension": ".py",
   "mimetype": "text/x-python",
   "name": "python",
   "nbconvert_exporter": "python",
   "pygments_lexer": "ipython3",
   "version": "3.12.2"
  }
 },
 "nbformat": 4,
 "nbformat_minor": 2
}
