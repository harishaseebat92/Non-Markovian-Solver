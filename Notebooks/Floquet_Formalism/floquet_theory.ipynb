{
 "cells": [
  {
   "cell_type": "markdown",
   "metadata": {},
   "source": [
    "## Time-Dependent Hamiltonian for a Two-Level System\n",
    "\n",
    "We consider a two-level system described by the Hamiltonian:\n",
    "\n",
    "$$\n",
    "\\hat{H}(t) = -\\frac{\\Delta}{2} \\, \\hat{\\sigma}_x - \\frac{\\epsilon(t)}{2} \\, \\hat{\\sigma}_z.\n",
    "$$\n",
    "\n",
    "### Explanation of Terms:\n",
    "- **Δ**: Time-independent coupling strength between the two basis states.\n",
    "- **ε(t)**: Time-dependent bias or detuning term.\n",
    "- **\\( \\hat{\\sigma}_x \\)** and **\\( \\hat{\\sigma}_z \\)**: Pauli matrices given by:\n",
    "  $$\n",
    "  \\hat{\\sigma}_x = \\begin{pmatrix} 0 & 1 \\\\ 1 & 0 \\end{pmatrix}, \\quad\n",
    "  \\hat{\\sigma}_z = \\begin{pmatrix} 1 & 0 \\\\ 0 & -1 \\end{pmatrix}.\n",
    "  $$\n",
    "\n",
    "### Harmonic Driving Assumption:\n",
    "For definiteness and simplicity in the algebra, we assume harmonic driving, i.e., we assume that \\( \\epsilon(t) \\) can be expressed as:\n",
    "\n",
    "$$\n",
    "\\epsilon(t) = \\epsilon_0 + A \\cos(\\omega t + \\varphi),\n",
    "$$\n",
    "\n",
    "where:\n",
    "- **\\( \\epsilon_0 \\)**: The static bias term.\n",
    "- **A**: Amplitude of the oscillating driving term.\n",
    "- **ω**: Frequency of the driving term.\n",
    "- **\\( \\varphi \\)**: Phase of the oscillation.\n",
    "\n",
    "This Hamiltonian represents a qubit subject to both transverse and longitudinal fields, commonly used in quantum control and Landau-Zener dynamics.\n"
   ]
  },
  {
   "cell_type": "code",
   "execution_count": 34,
   "metadata": {},
   "outputs": [],
   "source": [
    "from qutip import *\n",
    "import numpy as np\n",
    "import matplotlib.pyplot as plt"
   ]
  },
  {
   "cell_type": "code",
   "execution_count": 47,
   "metadata": {},
   "outputs": [],
   "source": [
    "# Step-1: Define Hamiltonian\n",
    "\n",
    "delta = 0.2 * 2*np.pi\n",
    "eps0 = 1.0 * 2*np.pi\n",
    "A = 2.5 * 2*np.pi\n",
    "omega = 1.0 * 2*np.pi\n",
    "H0 = - delta/2.0 * sigmax() - eps0/2.0 * sigmaz()\n",
    "H1 = A/2.0 * sigmaz()\n",
    "args = {'w': omega}\n",
    "H = [H0, [H1, 'sin(w * t)']]\n",
    "\n",
    "\n"
   ]
  },
  {
   "cell_type": "markdown",
   "metadata": {},
   "source": [
    " ## FloquetBasis class\n",
    "\n",
    " Floquet modes corresponding to the Hamiltonian can then be calculated using the FloquetBasis class, which encapsulates the Floquet modes and the quasienergies:"
   ]
  },
  {
   "cell_type": "code",
   "execution_count": 41,
   "metadata": {},
   "outputs": [],
   "source": [
    "#Hamiltonian here is H = H0 + Hint*cos(omega*t)\n",
    "#where H0=0.5*Delta*sigma_z + epsilon*sigma_x\n",
    "#and Hint=0.5*Vstr*sigma_z\n",
    "#and omega is the frequency of the driving\n",
    "T = 2*np.pi / omega\n",
    "tlist  = np.linspace(0.0, 10 * T, 101)\n",
    "\n",
    "floquet_basis = FloquetBasis(H, T, args)\n",
    "\n",
    "f_energies = floquet_basis.e_quasi\n",
    "\n",
    "f_mode = floquet_basis.mode(0)\n",
    "\n"
   ]
  },
  {
   "cell_type": "markdown",
   "metadata": {},
   "source": [
    "we obtain the Floquet mode at some later time \n",
    " using FloquetBasis.mode:"
   ]
  },
  {
   "cell_type": "code",
   "execution_count": 45,
   "metadata": {},
   "outputs": [
    {
     "data": {
      "text/plain": [
       "[Quantum object: dims=[[2], [1]], shape=(2, 1), type='ket', dtype=Dense\n",
       " Qobj data =\n",
       " [[ 0.72964233+0.j        ]\n",
       "  [-0.39993746+0.55468198j]],\n",
       " Quantum object: dims=[[2], [1]], shape=(2, 1), type='ket', dtype=Dense\n",
       " Qobj data =\n",
       " [[0.39993746+0.55468198j]\n",
       "  [0.72964233+0.j        ]]]"
      ]
     },
     "execution_count": 45,
     "metadata": {},
     "output_type": "execute_result"
    }
   ],
   "source": [
    "floquet_basis.mode(1)\n"
   ]
  },
  {
   "cell_type": "code",
   "execution_count": 46,
   "metadata": {},
   "outputs": [
    {
     "data": {
      "text/plain": [
       "[Quantum object: dims=[[2], [1]], shape=(2, 1), type='ket', dtype=Dense\n",
       " Qobj data =\n",
       " [[-0.69480041+0.22277864j]\n",
       "  [ 0.2114809 -0.650306j  ]],\n",
       " Quantum object: dims=[[2], [1]], shape=(2, 1), type='ket', dtype=Dense\n",
       " Qobj data =\n",
       " [[-0.2114809 -0.650306j  ]\n",
       "  [-0.69480041-0.22277864j]]]"
      ]
     },
     "execution_count": 46,
     "metadata": {},
     "output_type": "execute_result"
    }
   ],
   "source": [
    "floquet_basis.state(1)\n"
   ]
  },
  {
   "cell_type": "markdown",
   "metadata": {},
   "source": [
    "We find the wavefunction solution to the original problem for given some initial state "
   ]
  },
  {
   "cell_type": "code",
   "execution_count": 49,
   "metadata": {},
   "outputs": [
    {
     "name": "stdout",
     "output_type": "stream",
     "text": [
      "Quantum object: dims=[[2], [1]], shape=(2, 1), type='ket', dtype=Dense\n",
      "Qobj data =\n",
      "[[1.]\n",
      " [0.]]\n"
     ]
    },
    {
     "data": {
      "text/latex": [
       "Quantum object: dims=[[2], [1]], shape=(2, 1), type='ket', dtype=Dense$$\\left(\\begin{array}{cc}0.730\\\\(0.400-0.555j)\\end{array}\\right)$$"
      ],
      "text/plain": [
       "Quantum object: dims=[[2], [1]], shape=(2, 1), type='ket', dtype=Dense\n",
       "Qobj data =\n",
       "[[0.72964233+0.j        ]\n",
       " [0.39993746-0.55468198j]]"
      ]
     },
     "execution_count": 49,
     "metadata": {},
     "output_type": "execute_result"
    }
   ],
   "source": [
    "import matplotlib.pyplot as plt\n",
    "\n",
    "psi0   = qutip.basis(2, 0)\n",
    "\n",
    "print(psi0)\n",
    "\n",
    "# decompose the inital state in the floquet modes\n",
    "f_coeff = floquet_basis.to_floquet_basis(psi0)\n",
    "\n",
    "\n",
    "f_coeff"
   ]
  },
  {
   "cell_type": "markdown",
   "metadata": {},
   "source": [
    "We can easily evaluate the wavefunction that is the solution at an arbitrary time using the function FloquetBasis.from_floquet_basis:"
   ]
  },
  {
   "cell_type": "code",
   "execution_count": null,
   "metadata": {},
   "outputs": [
    {
     "name": "stdout",
     "output_type": "stream",
     "text": [
      "4.221638438096821e-31\n",
      "0.00393074488568904\n",
      "0.015155739057945851\n",
      "0.027269319017656064\n",
      "0.032767078920872786\n",
      "0.040003482777650964\n",
      "0.06389533494197766\n",
      "0.0774340602205941\n",
      "0.05248138211852664\n",
      "0.06465137857816003\n",
      "0.09283293586251876\n",
      "0.11320305152707538\n",
      "0.146659259203542\n",
      "0.19094535455560724\n",
      "0.21862598051468082\n",
      "0.23908206773069698\n",
      "0.285267246116122\n",
      "0.31091657491677516\n",
      "0.26480084889803795\n",
      "0.2866624112855233\n",
      "0.33671476742579864\n",
      "0.36727764343161207\n",
      "0.4115866488283655\n",
      "0.4715310775984459\n",
      "0.5099752344775492\n",
      "0.5346738625923015\n",
      "0.5852849393526585\n",
      "0.6146138668722858\n",
      "0.5645299060103044\n",
      "0.5867966996458298\n",
      "0.6407030782129348\n",
      "0.6714112705381057\n",
      "0.7111476993754148\n",
      "0.764397358871268\n",
      "0.7981720402191789\n",
      "0.8165540427285514\n",
      "0.8520731928121222\n",
      "0.8752786087610662\n",
      "0.8399009627028318\n",
      "0.8531355440327006\n",
      "0.8914420213102541\n",
      "0.9121938981438543\n",
      "0.933637468969841\n",
      "0.9603357052574196\n",
      "0.9757491306329257\n",
      "0.9796107817511679\n",
      "0.9861478903480372\n",
      "0.9957101138171432\n",
      "0.9882294148667707\n",
      "0.9863624108817086\n",
      "0.9954321947985145\n",
      "0.9998387887138662\n",
      "0.996090542932702\n",
      "0.9862816060197759\n",
      "0.9764888231237107\n",
      "0.9630409695042671\n",
      "0.9375131921548375\n",
      "0.9310000261390297\n",
      "0.9542042629676287\n",
      "0.936797612562037\n",
      "0.9138961399131411\n",
      "0.9016635645195563\n",
      "0.8752184564112185\n",
      "0.832559953759504\n",
      "0.8001152897541661\n",
      "0.7730234129807376\n",
      "0.7243047541358888\n",
      "0.705278440642607\n",
      "0.7505133300993483\n",
      "0.722923635048503\n",
      "0.677238277572815\n",
      "0.6542773164028354\n",
      "0.6160938561146905\n",
      "0.5564928475922325\n",
      "0.5123974122174485\n",
      "0.4804147875323982\n",
      "0.42602702499252537\n",
      "0.40271590133461466\n",
      "0.45311203094262387\n",
      "0.42449310366761417\n",
      "0.373707239262425\n",
      "0.3499292417011115\n",
      "0.31534311707287876\n",
      "0.26102444528366264\n",
      "0.22062386748909552\n",
      "0.1943275076006403\n",
      "0.15390640193384275\n",
      "0.13613659148316332\n",
      "0.1728999459841041\n",
      "0.15278939488204468\n",
      "0.11648835708625466\n",
      "0.10210934164183308\n",
      "0.085114810544075\n",
      "0.05633355895058695\n",
      "0.033595672239935315\n",
      "0.021442207792499748\n",
      "0.009415417274072042\n",
      "0.004946713121574243\n",
      "0.014366876570665502\n",
      "0.009129575585669415\n",
      "0.0014973725271599139\n"
     ]
    },
    {
     "data": {
      "image/png": "[encoded data removed]",
      "text/plain": [
       "<Figure size 640x480 with 1 Axes>"
      ]
     },
     "metadata": {},
     "output_type": "display_data"
    },
    {
     "ename": "",
     "evalue": "",
     "output_type": "error",
     "traceback": [
      "\u001b[1;31mThe Kernel crashed while executing code in the current cell or a previous cell. \n",
      "\u001b[1;31mPlease review the code in the cell(s) to identify a possible cause of the failure. \n",
      "\u001b[1;31mClick <a href='https://aka.ms/vscodeJupyterKernelCrash'>here</a> for more info. \n",
      "\u001b[1;31mView Jupyter <a href='command:jupyter.viewOutput'>log</a> for further details."
     ]
    }
   ],
   "source": [
    "p_ex = np.zeros(len(tlist))\n",
    "\n",
    "for n, t in enumerate(tlist):\n",
    "    psi_t = floquet_basis.from_floquet_basis(f_coeff, t)\n",
    "    p_ex[n] = qutip.expect(qutip.num(2), psi_t)\n",
    "    print(p_ex[n])\n",
    "\n",
    "\n",
    "plt.plot(tlist, p_ex)\n",
    "plt.show()\n"
   ]
  },
  {
   "cell_type": "markdown",
   "metadata": {},
   "source": [
    "# Floquet-Markov Master Equation in QuTiP\n",
    "\n",
    "The `fmmesolve` function in QuTiP solves time-periodic open quantum systems using the **Floquet-Markov master equation**. This approach combines Floquet theory (for periodic Hamiltonians) with a Markovian master equation to model dissipative dynamics under periodic driving.\n",
    "\n",
    "## Key Features\n",
    "- **Use Case**: Systems with periodic time-dependent Hamiltonians and weak coupling to a Markovian bath.\n",
    "- **Assumptions**:\n",
    "  - Hamiltonian is periodic: `H(t + T) = H(t)`.\n",
    "  - Weak system-bath interaction (Born approximation).\n",
    "  - Markovian (memoryless) bath.\n",
    "\n",
    "## How It Works\n",
    "1. **Floquet Decomposition**: Solves for Floquet modes and quasi-energies of the periodic Hamiltonian.\n",
    "2. **Transition Rates**: Computes bath-induced transitions between Floquet states.\n",
    "3. **Master Equation**: Constructs a Lindblad-form master equation in the Floquet basis.\n",
    "\n",
    "---"
   ]
  },
  {
   "cell_type": "markdown",
   "metadata": {},
   "source": [
    "### Transition Probability between two states(Two-level system under strong driving)"
   ]
  },
  {
   "cell_type": "code",
   "execution_count": 1,
   "metadata": {},
   "outputs": [],
   "source": [
    "# eigenvalue decomposition and sorting\n",
    "def eigen_sorter(H):\n",
    "    evals, evecs = sp.linalg.eig(H)\n",
    "    _zipped = list(zip(evals, range(len(evals))))\n",
    "    _zipped.sort()\n",
    "    evals, perm = list(zip(*_zipped))\n",
    "    evecs = np.array([evecs[:, k] for k in perm])\n",
    "    return np.array(evals), np.array(evecs)\n",
    "\n",
    "# floquet transition probabilities\n",
    "def floquet(H0, Hint, omega, n_ph, measvec):\n",
    "    # overlap probability\n",
    "    overlap_prob = 0\n",
    "    # spectral decomposition of H0\n",
    "    evals_0, evecs_0 = eigen_sorter(H0)\n",
    "    # atom Hamiltonian\n",
    "    H_atom = np.kron(np.eye(n_ph), H0)\n",
    "    # photon range\n",
    "    max_ph = int(np.floor(n_ph / 2))\n",
    "    # dimension of the system\n",
    "    dim = len(H0)\n",
    "    # photon Hamiltonian\n",
    "    H_ph = omega * np.kron(np.diag([k for k in range(-max_ph, max_ph + 1)]), np.eye(dim))\n",
    "    # interactions\n",
    "    temp_v = np.array([int(k == 1) for k in range(n_ph)])\n",
    "    # interaction Hamiltonian\n",
    "    H_int = np.kron(sp.linalg.toeplitz(temp_v), Hint)\n",
    "    # construct the full Hamiltonian\n",
    "    H = H_atom + H_ph + H_int\n",
    "    # ground state\n",
    "    psi_g = np.kron(np.array([int(k == max_ph) for k in range(n_ph)]), evecs_0[-1])\n",
    "    # spectral decomposition of H\n",
    "    evals, evecs = eigen_sorter(H)\n",
    "    # loop over all the transitions\n",
    "    for k_c in range(1, n_ph + 1):\n",
    "        temp_v = np.array([int(k == k_c) for k in range(n_ph)])\n",
    "        psi_m = np.kron(temp_v, measvec)\n",
    "        for evec in evecs:\n",
    "            overlap = psi_m.T.conjugate() @ np.outer(evec.T.conjugate(), evec) @ psi_g\n",
    "            overlap_prob += np.real(np.conjugate(overlap) * overlap)\n",
    "    # return total transition probability\n",
    "    return overlap_prob\n"
   ]
  },
  {
   "cell_type": "code",
   "execution_count": 5,
   "metadata": {},
   "outputs": [
    {
     "name": "stderr",
     "output_type": "stream",
     "text": [
      "  0%|          | 0/600 [00:00<?, ?it/s]C:\\Users\\DELL\\AppData\\Local\\Temp\\ipykernel_1120\\1577251510.py:22: RuntimeWarning: k >= N for N * N square matrix. Attempting to use scipy.linalg.eigh instead.\n",
      "  evals_un, evecs_un = sp.sparse.linalg.eigsh(H0)\n",
      "100%|██████████| 600/600 [00:13<00:00, 45.01it/s]\n"
     ]
    },
    {
     "data": {
      "text/plain": [
       "Text(0, 0.5, 'Absorption probability')"
      ]
     },
     "execution_count": 5,
     "metadata": {},
     "output_type": "execute_result"
    },
    {
     "data": {
      "image/png": "[encoded data removed]",
      "text/plain": [
       "<Figure size 800x500 with 2 Axes>"
      ]
     },
     "metadata": {},
     "output_type": "display_data"
    }
   ],
   "source": [
    "import matplotlib.pyplot as plt\n",
    "from tqdm import tqdm\n",
    "import numpy as np\n",
    "import scipy as sp\n",
    "# input\n",
    "measvec = np.array([1, 0])\n",
    "epsilon = 0.2\n",
    "Deltas = np.linspace(-6, 6, 600)\n",
    "omega = 1.5\n",
    "n_ph = 13\n",
    "Vs = [0.05, 0.2, 1]\n",
    "sx, sz = np.array([[0, 1], [1, 0]]), np.array([[1, 0], [0, -1]])\n",
    "\n",
    "# allocate memory\n",
    "abs_av = np.zeros((len(Deltas), len(Vs)))\n",
    "spec = np.zeros((2, len(Deltas)))\n",
    "\n",
    "# compute\n",
    "for iD, Delta in enumerate(tqdm(Deltas)):\n",
    "    for iV, V in enumerate(Vs):\n",
    "        H0 = Delta / 2 * sz + epsilon * sx\n",
    "        evals_un, evecs_un = sp.sparse.linalg.eigsh(H0)\n",
    "        # sort\n",
    "        evals = np.sort(evals_un)\n",
    "        evecs = evecs_un[:, evals_un.argsort()]\n",
    "        spec[:, iD] = np.sort(evals)\n",
    "        Hint = V * sz / 2\n",
    "        abs_av[iD, iV] = floquet(H0, Hint, omega, n_ph, measvec)\n",
    "\n",
    "fig, ax = plt.subplots(2, 1, figsize=(8, 5))\n",
    "ax[0].plot(Deltas / omega, spec[1], 'b-', label=r'$\\lambda_e$')\n",
    "ax[0].plot(Deltas / omega, spec[0], 'r-', label=r'$\\lambda_g$')\n",
    "ax[0].legend()\n",
    "ax[0].set_ylabel(r'Energy')\n",
    "ax[0].vlines([k for k in range(-3, 3 + 1) if k != 0], -4, 4, linestyles='dashed', linewidths=1, colors='black', alpha=0.5)\n",
    "ax[1].vlines([k for k in range(-3, 3 + 1) if k != 0], 0, 1, linestyles='dashed', linewidths=1, colors='black', alpha=0.5)\n",
    "ax[1].plot(Deltas / omega, abs_av.T[0], label='V = ' + str(Vs[0]))\n",
    "ax[1].plot(Deltas / omega, abs_av.T[1], linestyle=(5, (10, 1)), label='V = ' + str(Vs[1]))\n",
    "ax[1].plot(Deltas / omega, abs_av.T[2], '--', label='V = ' + str(Vs[2]))\n",
    "ax[1].legend()\n",
    "ax[1].set_xlabel(r'detuning ($\\delta$)')\n",
    "ax[1].set_ylabel(r'Absorption probability')\n",
    "# fig.savefig('figures/floquet.pdf')\n"
   ]
  },
  {
   "cell_type": "code",
   "execution_count": null,
   "metadata": {},
   "outputs": [
    {
     "data": {
      "text/plain": [
       "(26, 26)"
      ]
     },
     "execution_count": 14,
     "metadata": {},
     "output_type": "execute_result"
    }
   ],
   "source": [
    "import numpy as np\n",
    "import scipy as sp\n",
    "# input\n",
    "measvec = np.array([1, 0])\n",
    "epsilon = 0.2\n",
    "Deltas = np.linspace(-6, 6, 600)\n",
    "omega = 1.5\n",
    "n_ph = 13\n",
    "Vs = [0.05, 0.2, 1]\n",
    "sx, sz = np.array([[0, 1], [1, 0]]), np.array([[1, 0], [0, -1]])\n",
    "\n",
    "H0 = Delta / 2 * sz + epsilon * sx\n",
    "Hint = V * sz / 2\n",
    "\n",
    "\n",
    "\n",
    "# eigenvalue decomposition and sorting\n",
    "def eigen_sorter(H):\n",
    "    evals, evecs = sp.linalg.eig(H)\n",
    "    _zipped = list(zip(evals, range(len(evals))))\n",
    "    _zipped.sort()\n",
    "    evals, perm = list(zip(*_zipped))\n",
    "    evecs = np.array([evecs[:, k] for k in perm])\n",
    "    return np.array(evals), np.array(evecs)\n",
    "\n",
    "# floquet transition probabilities\n",
    "def floquet(H0, Hint, omega, n_ph, measvec):\n",
    "    # overlap probability\n",
    "    overlap_prob = 0\n",
    "    # spectral decomposition of H0\n",
    "    evals_0, evecs_0 = eigen_sorter(H0)\n",
    "    # atom Hamiltonian\n",
    "    H_atom = np.kron(np.eye(n_ph), H0)\n",
    "    # photon range\n",
    "    max_ph = int(np.floor(n_ph / 2))\n",
    "    # dimension of the system\n",
    "    dim = len(H0)\n",
    "    # photon Hamiltonian\n",
    "    H_ph = omega * np.kron(np.diag([k for k in range(-max_ph, max_ph + 1)]), np.eye(dim))\n",
    "\n",
    "\n"
   ]
  },
  {
   "cell_type": "code",
   "execution_count": 32,
   "metadata": {},
   "outputs": [
    {
     "name": "stdout",
     "output_type": "stream",
     "text": [
      "[1 0 0 0 0 0 0 0 0 0 0 0 0 0 0 0 0 0 0 0 0 0 0 0 0 0]\n",
      "[0 0 1 0 0 0 0 0 0 0 0 0 0 0 0 0 0 0 0 0 0 0 0 0 0 0]\n",
      "[0 0 0 0 1 0 0 0 0 0 0 0 0 0 0 0 0 0 0 0 0 0 0 0 0 0]\n",
      "[0 0 0 0 0 0 1 0 0 0 0 0 0 0 0 0 0 0 0 0 0 0 0 0 0 0]\n",
      "[0 0 0 0 0 0 0 0 1 0 0 0 0 0 0 0 0 0 0 0 0 0 0 0 0 0]\n",
      "[0 0 0 0 0 0 0 0 0 0 1 0 0 0 0 0 0 0 0 0 0 0 0 0 0 0]\n",
      "[0 0 0 0 0 0 0 0 0 0 0 0 1 0 0 0 0 0 0 0 0 0 0 0 0 0]\n",
      "[0 0 0 0 0 0 0 0 0 0 0 0 0 0 1 0 0 0 0 0 0 0 0 0 0 0]\n",
      "[0 0 0 0 0 0 0 0 0 0 0 0 0 0 0 0 1 0 0 0 0 0 0 0 0 0]\n",
      "[0 0 0 0 0 0 0 0 0 0 0 0 0 0 0 0 0 0 1 0 0 0 0 0 0 0]\n",
      "[0 0 0 0 0 0 0 0 0 0 0 0 0 0 0 0 0 0 0 0 1 0 0 0 0 0]\n",
      "[0 0 0 0 0 0 0 0 0 0 0 0 0 0 0 0 0 0 0 0 0 0 1 0 0 0]\n",
      "[0 0 0 0 0 0 0 0 0 0 0 0 0 0 0 0 0 0 0 0 0 0 0 0 1 0]\n",
      "[0 0 0 0 0 0 0 0 0 0 0 0 0 0 0 0 0 0 0 0 0 0 0 0 0 0]\n",
      "0.9699407242939335\n"
     ]
    }
   ],
   "source": [
    "# overlap probability\n",
    "overlap_prob = 0\n",
    "# spectral decomposition of H0\n",
    "evals_0, evecs_0 = eigen_sorter(H0)\n",
    "# atom Hamiltonian\n",
    "H_atom = np.kron(np.eye(n_ph), H0)\n",
    "# photon range\n",
    "max_ph = int(np.floor(n_ph / 2))\n",
    "# dimension of the system\n",
    "dim = len(H0)\n",
    "# photon Hamiltonian\n",
    "H_ph = omega * np.kron(np.diag([k for k in range(-max_ph, max_ph + 1)]), np.eye(dim))\n",
    "\n",
    "# interactions\n",
    "temp_v = np.array([int(k == 1) for k in range(n_ph)])\n",
    "# interaction Hamiltonian\n",
    "H_int = np.kron(sp.linalg.toeplitz(temp_v), Hint)\n",
    "# construct the full Hamiltonian\n",
    "H = H_atom + H_ph + H_int\n",
    "# # ground state\n",
    "\n",
    "psi_g = np.kron(np.array([int(k == max_ph) for k in range(n_ph)]), evecs_0[-1])\n",
    "# spectral decomposition of H\n",
    "evals, evecs = eigen_sorter(H)\n",
    "# loop over all the transitions\n",
    "for k_c in range(0, n_ph + 1):\n",
    "    temp_v = np.array([int(k == k_c) for k in range(n_ph)])\n",
    "    psi_m = np.kron(temp_v, measvec)\n",
    "    print(psi_m)\n",
    "    for evec in evecs:\n",
    "        overlap = psi_m.T.conjugate() @ np.outer(evec.T.conjugate(), evec) @ psi_g\n",
    "        overlap_prob += np.real(np.conjugate(overlap) * overlap)\n",
    "# return total transition probability\n",
    "print(overlap_prob)"
   ]
  }
 ],
 "metadata": {
  "kernelspec": {
   "display_name": "qiskit",
   "language": "python",
   "name": "python3"
  },
  "language_info": {
   "codemirror_mode": {
    "name": "ipython",
    "version": 3
   },
   "file_extension": ".py",
   "mimetype": "text/x-python",
   "name": "python",
   "nbconvert_exporter": "python",
   "pygments_lexer": "ipython3",
   "version": "3.12.2"
  }
 },
 "nbformat": 4,
 "nbformat_minor": 2
}
